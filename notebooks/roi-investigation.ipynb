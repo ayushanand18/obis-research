{
 "cells": [
  {
   "cell_type": "markdown",
   "id": "0b3439fa",
   "metadata": {
    "_cell_guid": "b1076dfc-b9ad-4769-8c92-a6c4dae69d19",
    "_uuid": "8f2839f25d086af736a60e9eeb907d3b93b6e0e5",
    "papermill": {
     "duration": 0.005641,
     "end_time": "2022-10-03T07:46:56.944080",
     "exception": false,
     "start_time": "2022-10-03T07:46:56.938439",
     "status": "completed"
    },
    "tags": []
   },
   "source": [
    "# Region of Interest Investigation\n",
    "Investigating which RoI is best for us.\n",
    "\n",
    "# Abstract Information\n",
    "## Goals for this notebook\n",
    "+ Identify spatiotemporal region-of-interests (RoIs) to use as case-studies\n",
    "    + RoIs should have lots of data\n",
    "    + RoIs should have a scientifically interesting “data story”\n",
    "+ Identify potential publication venues"
   ]
  },
  {
   "cell_type": "markdown",
   "id": "ff241419",
   "metadata": {
    "papermill": {
     "duration": 0.003294,
     "end_time": "2022-10-03T07:46:56.951233",
     "exception": false,
     "start_time": "2022-10-03T07:46:56.947939",
     "status": "completed"
    },
    "tags": []
   },
   "source": [
    "## things we have now\n",
    "+ Phytoplankton, and zooplankton <- makes the most sense, as they are most impacted due to physical and climatic conditions.\n",
    "+ we can get these kind of things out of OBIS and pull and produce some research\n",
    "    + refish (RVCs) monitoring program, most of the nodes are fixed they dont travel much\n",
    "    + https://obis.org/dataset/afef5da2-614b-4208-aee6-c2413ed5ab76 <- to this data, they are still collecting. \n",
    "    + CRAMP is another most common project. <- on corals\n",
    "    + the bottom cover analysis is promising.\n",
    "    + another research being conducted involving eDNA, phytoplankton dataset based on ratio of different pigments.\n",
    "\n",
    "### what we can do?\n",
    "+ Identifying region\n",
    "    + europe and north atlantic, california has got good data,\n",
    "    + region below Africa is an interesting and recent scape\n",
    "    + region below Australia is also interesting\n",
    "    + **Florida Keys** <- most of the people are interested into Corals.\n",
    "+ time series analysis <- seasonal decomposition\n",
    "+ or, species distribution model (people have done more)\n",
    "+ main question -> how was diversity changing over years in the keys?\n",
    "\n",
    "### interesting things\n",
    "+ need to have a breif about recent biodiversity events\n",
    "    + lionfish appeared in florida keys, lots of concern\n",
    "        + very invasive: but numbers of stablized over years\n",
    "+ Interesting Scholar -> https://scholar.google.com/citations?hl=en&user=iQn7B_QAAAAJ&view_op=list_works&sortby=pubdate\n",
    "+ good repo to gain inspiration from -> https://github.com/cestes-19/RVC\n",
    "\n",
    "### things to keep in mind\n",
    "+ Must involve Seascapes for -> dimensionality reduction,\n",
    "    + Useful for species modelling, seascapes change over time; moving ecosystem\n",
    "+ also figure out if MoFs are present in the RoI.\n",
    "\n",
    "### challenges we will face\n",
    "+ find the best region and the best species\n",
    "+ to battle sampling bias is a huge challenge\n",
    "+ people want to do forecast, but that is a very difficult and big problem\n",
    "    + need high amount of data for the right forecast"
   ]
  },
  {
   "cell_type": "markdown",
   "id": "3e6080a4",
   "metadata": {
    "papermill": {
     "duration": 0.003168,
     "end_time": "2022-10-03T07:46:56.958020",
     "exception": false,
     "start_time": "2022-10-03T07:46:56.954852",
     "status": "completed"
    },
    "tags": []
   },
   "source": [
    "# Analysis"
   ]
  },
  {
   "cell_type": "markdown",
   "id": "9047038c",
   "metadata": {
    "papermill": {
     "duration": 0.003324,
     "end_time": "2022-10-03T07:46:56.965248",
     "exception": false,
     "start_time": "2022-10-03T07:46:56.961924",
     "status": "completed"
    },
    "tags": []
   },
   "source": [
    "### importing necessary modules and setting up right variables"
   ]
  },
  {
   "cell_type": "code",
   "execution_count": 1,
   "id": "3b4132d6",
   "metadata": {
    "execution": {
     "iopub.execute_input": "2022-10-03T07:46:56.975302Z",
     "iopub.status.busy": "2022-10-03T07:46:56.974252Z",
     "iopub.status.idle": "2022-10-03T07:47:11.494191Z",
     "shell.execute_reply": "2022-10-03T07:47:11.492479Z"
    },
    "papermill": {
     "duration": 14.528293,
     "end_time": "2022-10-03T07:47:11.497154",
     "exception": false,
     "start_time": "2022-10-03T07:46:56.968861",
     "status": "completed"
    },
    "tags": []
   },
   "outputs": [
    {
     "name": "stdout",
     "output_type": "stream",
     "text": [
      "\u001b[33mWARNING: Running pip as the 'root' user can result in broken permissions and conflicting behaviour with the system package manager. It is recommended to use a virtual environment instead: https://pip.pypa.io/warnings/venv\u001b[0m\u001b[33m\r\n",
      "\u001b[0mNote: you may need to restart the kernel to use updated packages.\n"
     ]
    }
   ],
   "source": [
    "try:\n",
    "    import pyobis\n",
    "except:\n",
    "    %pip install -q pyobis\n",
    "    import pyobis"
   ]
  },
  {
   "cell_type": "code",
   "execution_count": 2,
   "id": "dd831e94",
   "metadata": {
    "execution": {
     "iopub.execute_input": "2022-10-03T07:47:11.507489Z",
     "iopub.status.busy": "2022-10-03T07:47:11.506685Z",
     "iopub.status.idle": "2022-10-03T07:47:15.187496Z",
     "shell.execute_reply": "2022-10-03T07:47:15.186516Z"
    },
    "papermill": {
     "duration": 3.689122,
     "end_time": "2022-10-03T07:47:15.190470",
     "exception": false,
     "start_time": "2022-10-03T07:47:11.501348",
     "status": "completed"
    },
    "tags": []
   },
   "outputs": [
    {
     "name": "stderr",
     "output_type": "stream",
     "text": [
      "/opt/conda/lib/python3.7/site-packages/geopandas/_compat.py:115: UserWarning: The Shapely GEOS version (3.9.1-CAPI-1.14.2) is incompatible with the GEOS version PyGEOS was compiled with (3.10.3-CAPI-1.16.1). Conversions between both will be slow.\n",
      "  shapely_geos_version, geos_capi_version_string\n"
     ]
    }
   ],
   "source": [
    "import geopandas as gpd\n",
    "import numpy as np\n",
    "import pandas as pd\n",
    "import matplotlib.pyplot as plt\n",
    "from matplotlib import rcParams\n",
    "import seaborn as sns\n",
    "import cartopy as crt\n",
    "import geoplot as gplt\n",
    "%matplotlib inline"
   ]
  },
  {
   "cell_type": "code",
   "execution_count": 3,
   "id": "48f0eed6",
   "metadata": {
    "execution": {
     "iopub.execute_input": "2022-10-03T07:47:15.200999Z",
     "iopub.status.busy": "2022-10-03T07:47:15.199617Z",
     "iopub.status.idle": "2022-10-03T07:47:15.205299Z",
     "shell.execute_reply": "2022-10-03T07:47:15.204193Z"
    },
    "papermill": {
     "duration": 0.013545,
     "end_time": "2022-10-03T07:47:15.208042",
     "exception": false,
     "start_time": "2022-10-03T07:47:15.194497",
     "status": "completed"
    },
    "tags": []
   },
   "outputs": [],
   "source": [
    "from pyobis.occurrences import OccQuery\n",
    "occ = OccQuery()"
   ]
  },
  {
   "cell_type": "code",
   "execution_count": 4,
   "id": "c44dc0ce",
   "metadata": {
    "execution": {
     "iopub.execute_input": "2022-10-03T07:47:15.217927Z",
     "iopub.status.busy": "2022-10-03T07:47:15.217034Z",
     "iopub.status.idle": "2022-10-03T07:47:15.222438Z",
     "shell.execute_reply": "2022-10-03T07:47:15.221525Z"
    },
    "papermill": {
     "duration": 0.012727,
     "end_time": "2022-10-03T07:47:15.224570",
     "exception": false,
     "start_time": "2022-10-03T07:47:15.211843",
     "status": "completed"
    },
    "tags": []
   },
   "outputs": [],
   "source": [
    "rcParams['figure.figsize'] = (15,10)"
   ]
  },
  {
   "cell_type": "markdown",
   "id": "71002809",
   "metadata": {
    "papermill": {
     "duration": 0.003559,
     "end_time": "2022-10-03T07:47:15.232106",
     "exception": false,
     "start_time": "2022-10-03T07:47:15.228547",
     "status": "completed"
    },
    "tags": []
   },
   "source": [
    "### RoI: Florida Keys\n",
    "> Fetch Data"
   ]
  },
  {
   "cell_type": "code",
   "execution_count": 5,
   "id": "591e8776",
   "metadata": {
    "execution": {
     "iopub.execute_input": "2022-10-03T07:47:15.242022Z",
     "iopub.status.busy": "2022-10-03T07:47:15.241230Z",
     "iopub.status.idle": "2022-10-03T08:20:32.159766Z",
     "shell.execute_reply": "2022-10-03T08:20:32.158327Z"
    },
    "papermill": {
     "duration": 1996.926536,
     "end_time": "2022-10-03T08:20:32.162441",
     "exception": false,
     "start_time": "2022-10-03T07:47:15.235905",
     "status": "completed"
    },
    "tags": []
   },
   "outputs": [
    {
     "name": "stdout",
     "output_type": "stream",
     "text": [
      "Fetching: [████████████████████████████████████████████████████████████████████████████████████████████████████] 988955/988955\r\n",
      "Fetched 988955 records.\n"
     ]
    }
   ],
   "source": [
    "fl_df = occ.search(geometry=\"POLYGON ((-80.1374 25.8944, -80.1850 25.8153, -80.2472 25.7066, -80.3204 25.5713,\\\n",
    "                   -80.3534 25.4722, -80.3790 25.3862, -80.3790 25.3300, -80.4632 25.2473, -80.5950 25.2042,\\\n",
    "                    -80.7451 25.1678, -80.8586 25.1844, -80.9392 25.1413, -81.0746 25.1347, -81.1369 25.1844,\\\n",
    "                    -81.1625 25.2440, -81.0856 25.2638, -80.9831 25.2175, -80.9062 25.2241, -80.9392 25.2870,\\\n",
    "                    -80.9758 25.3366, -81.0161 25.3366, -81.1332 25.3829, -81.1881 25.4755, -81.2028 25.5217,\\\n",
    "                    -81.2614 25.6373, -81.3126 25.7527, -81.3565 25.8186, -81.4627 25.8845, -81.6677 25.8746,\\\n",
    "                    -81.7703 25.8648, -81.5799 25.5283, -81.5286 25.2936, -81.5689 25.1446, -81.7519 25.0352,\\\n",
    "                    -81.9423 24.9822, -82.1766 24.9257, -82.3158 24.8926, -82.4110 24.5901, -82.4439 24.4768,\\\n",
    "                    -82.2718 24.2735, -82.1144 24.0798, -81.6275 24.0631, -81.2577 24.0731, -80.7927 24.1867,\\\n",
    "                    -80.5657 24.2902, -80.3058 24.5201, -80.0715 24.8029, -79.8555 25.0021, -79.7859 25.2705,\\\n",
    "                    -79.6944 25.4590, -79.6614 25.6439, -79.6138 25.8252, -79.6028 25.8845, -80.1374 25.8944))\",\n",
    "                  startdate = \"1997-01-01\",\n",
    "                  enddate = \"2012-12-31\")"
   ]
  },
  {
   "cell_type": "code",
   "execution_count": 6,
   "id": "c877fff5",
   "metadata": {
    "execution": {
     "iopub.execute_input": "2022-10-03T08:20:32.197127Z",
     "iopub.status.busy": "2022-10-03T08:20:32.196707Z",
     "iopub.status.idle": "2022-10-03T08:21:47.168048Z",
     "shell.execute_reply": "2022-10-03T08:21:47.165660Z"
    },
    "papermill": {
     "duration": 74.998132,
     "end_time": "2022-10-03T08:21:47.176566",
     "exception": false,
     "start_time": "2022-10-03T08:20:32.178434",
     "status": "completed"
    },
    "tags": []
   },
   "outputs": [],
   "source": [
    "fl_df.to_csv(\"florida-keys-1997-2012.csv\")"
   ]
  },
  {
   "cell_type": "markdown",
   "id": "94e5b623",
   "metadata": {
    "papermill": {
     "duration": 0.017121,
     "end_time": "2022-10-03T08:21:47.217293",
     "exception": false,
     "start_time": "2022-10-03T08:21:47.200172",
     "status": "completed"
    },
    "tags": []
   },
   "source": [
    "Let's save this csv data file to kaggle storage, and commit this notebook so that next time we don't download it from the API but directly import into Kaggle - way faster! 32 minutes v/s 45 sec.\n",
    "\n",
    "**However, this csv file of 988,955 records is of 1.1 GB size.**"
   ]
  },
  {
   "cell_type": "code",
   "execution_count": null,
   "id": "ce5e8daf",
   "metadata": {
    "papermill": {
     "duration": 0.01599,
     "end_time": "2022-10-03T08:21:47.250545",
     "exception": false,
     "start_time": "2022-10-03T08:21:47.234555",
     "status": "completed"
    },
    "tags": []
   },
   "outputs": [],
   "source": []
  }
 ],
 "metadata": {
  "kernelspec": {
   "display_name": "Python 3",
   "language": "python",
   "name": "python3"
  },
  "language_info": {
   "codemirror_mode": {
    "name": "ipython",
    "version": 3
   },
   "file_extension": ".py",
   "mimetype": "text/x-python",
   "name": "python",
   "nbconvert_exporter": "python",
   "pygments_lexer": "ipython3",
   "version": "3.7.12"
  },
  "papermill": {
   "default_parameters": {},
   "duration": 2102.561743,
   "end_time": "2022-10-03T08:21:50.202245",
   "environment_variables": {},
   "exception": null,
   "input_path": "__notebook__.ipynb",
   "output_path": "__notebook__.ipynb",
   "parameters": {},
   "start_time": "2022-10-03T07:46:47.640502",
   "version": "2.3.4"
  }
 },
 "nbformat": 4,
 "nbformat_minor": 5
}
